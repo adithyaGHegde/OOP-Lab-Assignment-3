{
  "nbformat": 4,
  "nbformat_minor": 0,
  "metadata": {
    "colab": {
      "name": "AdithyaHegde_20BCS006_OOPTask3.ipynb",
      "provenance": [],
      "authorship_tag": "ABX9TyP3+BQbS70WvaUTIbrQCk24",
      "include_colab_link": true
    },
    "kernelspec": {
      "name": "python3",
      "display_name": "Python 3"
    },
    "language_info": {
      "name": "python"
    }
  },
  "cells": [
    {
      "cell_type": "markdown",
      "metadata": {
        "id": "view-in-github",
        "colab_type": "text"
      },
      "source": [
        "<a href=\"https://colab.research.google.com/github/adithyaGHegde/OOP-Lab-Assignment-3/blob/main/AdithyaHegde_20BCS006_OOPTask3.ipynb\" target=\"_parent\"><img src=\"https://colab.research.google.com/assets/colab-badge.svg\" alt=\"Open In Colab\"/></a>"
      ]
    },
    {
      "cell_type": "markdown",
      "metadata": {
        "id": "WNXsKVpnpMUc"
      },
      "source": [
        "1.Write a python program to demonstrate the inheritance principle of OOP. Create a\n",
        "Student class that includes student’s basic information : Name, Reg no, Age, Gender,\n",
        "Branch, Sem. Define functions to read and display basic information. Create a new class\n",
        "StudentResultInfo that inherits from Student class. Derived class will include student’s\n",
        "total marks, percentage and grade. Display student’s basic information and result\n",
        "information using derived class."
      ]
    },
    {
      "cell_type": "code",
      "metadata": {
        "colab": {
          "base_uri": "https://localhost:8080/"
        },
        "id": "w1TPxGkppRpc",
        "outputId": "4b5ef063-d408-4ca3-a861-f65f4b696c3e"
      },
      "source": [
        "class Student:\n",
        "  def __init__(self,nam,reg,ag,gen,bran,sem):\n",
        "    self.name = nam\n",
        "    self.regNo = reg\n",
        "    self.age = ag\n",
        "    self.gender = gen\n",
        "    self.branch = bran\n",
        "    self.semester = sem\n",
        "\n",
        "  def displayBasic(self):\n",
        "    print(\"\"\"Student details: Name: {}\n",
        "                              Reg No: {}\n",
        "                              Age: {}\n",
        "                              Gender: {}\n",
        "                              Branch: {}\n",
        "                              Semester: {} \"\"\".format(self.name,self.regNo,self.age,self.gender,self.branch,self.semester))\n",
        "    \n",
        "  \n",
        "class StudentResultInfo(Student):\n",
        "  def __init__(self,nam,reg,ag,gen,bran,sem,tot,perc,grad):\n",
        "    Student.__init__(self,nam,reg,ag,gen,bran,sem)\n",
        "    self.totalMarks = tot\n",
        "    self.percentage = perc\n",
        "    self.grade = grad\n",
        "\n",
        "  def displayBasic(self):\n",
        "    print(\"\"\"Stdent details: Name: {} \n",
        "                             Reg No: {}\n",
        "                             Age: {}\n",
        "                             Gender: {}\n",
        "                             Branch: {}\n",
        "                             Semester: {}\n",
        "                             Total Marks: {}\n",
        "                             Percentage: {}\n",
        "                             Grade: {}\"\"\".format(self.name,self.regNo,self.age,self.gender,self.branch,self.semester,self.totalMarks,self.percentage,self.grade))\n",
        "\n",
        "S = StudentResultInfo(\"Adithya\",\"20bcs006\",19,\"M\",\"CSE\",2,500,80,\"B\")\n",
        "S.displayBasic()"
      ],
      "execution_count": 8,
      "outputs": [
        {
          "output_type": "stream",
          "name": "stdout",
          "text": [
            "Stdent details: Name: Adithya \n",
            "                             Reg No: 20bcs006\n",
            "                             Age: 19\n",
            "                             Gender: M\n",
            "                             Branch: CSE\n",
            "                             Semester: 2\n",
            "                             Total Marks: 500\n",
            "                             Percentage: 80\n",
            "                             Grade: B\n"
          ]
        }
      ]
    },
    {
      "cell_type": "markdown",
      "metadata": {
        "id": "U_4xP5t-uxMX"
      },
      "source": [
        "2. Imagine you&#39;re writing a Content Management system - this system will store two types\n",
        "of documents.\n",
        "\n",
        "  a) PDFs (who created, description, file size)\n",
        "\n",
        "  b) Pictures (who created, description, image dimensions, file size)\n",
        "\n",
        "Imagine you&#39;re now asked to add a few features:\n",
        "(i) Checking to see whether the file size is beyond a certain threshold.\n",
        "(ii) Display the details of document.\n",
        "(iii) Checking to see whether it&#39;s too high of dimension of picture.\n",
        "Note: use inheritance concept to reduce length of code."
      ]
    },
    {
      "cell_type": "code",
      "metadata": {
        "colab": {
          "base_uri": "https://localhost:8080/"
        },
        "id": "NiGdqSFTu1Pw",
        "outputId": "1e62c24a-5860-4ea3-c32f-e3961e9e228d"
      },
      "source": [
        "class PDF:\n",
        "  def __init__(self,create,desc,size):\n",
        "    self.creator = create\n",
        "    self.description = desc\n",
        "    self.fileSize = int(size)\n",
        "  \n",
        "  def checkFileSize(self):\n",
        "    if self.fileSize > 100:\n",
        "      print(\"\\nFile size is too large\")\n",
        "    else:\n",
        "      print(\"\\nFile size is acceptable\")\n",
        "\n",
        "  def displayDetails(self):\n",
        "    print(\"\\nCreated by: \",self.creator,\"\\nDescription: \",self.description,\"\\nFile Size: \",self.fileSize)\n",
        "\n",
        "\n",
        "class Pictures(PDF):\n",
        "  def __init__(self,create,desc,size,wid,heigh,):\n",
        "    PDF.__init__(self,create,desc,size)\n",
        "    self.width = wid\n",
        "    self.height = heigh\n",
        "\n",
        "  def displayDetails(self):\n",
        "    print(\"\\nCreated by: \",self.creator,\"\\nDescription: \",self.description,\"\\nFile Size: \",self.fileSize,\"\\nDimensions: \",self.width,\"x\",self.height)\n",
        "\n",
        "  def checkDimensions(self):\n",
        "    if self.width > 100 or self.height > 70:\n",
        "      print(\"\\nImage dimensions are too big\")\n",
        "    else:\n",
        "      print(\"\\nImage dimensions are acceptable\")\n",
        "\n",
        "F = Pictures(\"Aditya\",\"Picture of the sunset\",180,70,60)\n",
        "F.checkFileSize()\n",
        "F.checkDimensions()\n",
        "F.displayDetails()"
      ],
      "execution_count": 11,
      "outputs": [
        {
          "output_type": "stream",
          "name": "stdout",
          "text": [
            "\n",
            "File size is too large\n",
            "\n",
            "Image dimensions are acceptable\n",
            "\n",
            "Created by:  Aditya \n",
            "Description:  Picture of the sunset \n",
            "File Size:  180 \n",
            "Dimensions:  70 x 60\n"
          ]
        }
      ]
    },
    {
      "cell_type": "markdown",
      "metadata": {
        "id": "bV00y_d5zSJd"
      },
      "source": [
        "3. Create vehicle class with data member’s name, mileage and capacity and member\n",
        "function bus fare. Create a Bus child class that inherits from the Vehicle class. The\n",
        "default fare charge of any vehicle is seating capacity * 100. If Vehicle is Bus instance,\n",
        "we need to add an extra 10% on full fare as a maintenance charge. So total fare for bus\n",
        "instance will become the final amount = total fare + 10% of the total fare.\n",
        "Note: The bus seating capacity is 50."
      ]
    },
    {
      "cell_type": "code",
      "metadata": {
        "colab": {
          "base_uri": "https://localhost:8080/"
        },
        "id": "n_rHXTuezV3V",
        "outputId": "badab3b0-19f3-4c71-b7fc-d0d608daab43"
      },
      "source": [
        "class Vehicle:\n",
        "  def __init__(self,nam,mil,cap):\n",
        "    self.name = nam\n",
        "    self.mileage = mil\n",
        "    self.capacity = cap\n",
        "\n",
        "  def busFare(self):\n",
        "    return self.capacity*100\n",
        "\n",
        "class Bus(Vehicle):\n",
        "\n",
        "  def busFare(self):\n",
        "    finalAmount = self.capacity*100 + (0.1*self.capacity*100)\n",
        "    print(\"Final bus fare amount is: \",finalAmount)\n",
        "\n",
        "V = Bus(\"Volvo\",30,50)\n",
        "V.busFare()"
      ],
      "execution_count": 13,
      "outputs": [
        {
          "output_type": "stream",
          "name": "stdout",
          "text": [
            "Final bus fare amount is:  5500.0\n"
          ]
        }
      ]
    }
  ]
}